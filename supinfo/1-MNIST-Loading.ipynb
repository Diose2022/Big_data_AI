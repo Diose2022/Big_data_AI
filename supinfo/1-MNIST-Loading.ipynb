{
 "cells": [
  {
   "cell_type": "code",
   "id": "initial_id",
   "metadata": {
    "collapsed": true,
    "ExecuteTime": {
     "end_time": "2025-04-28T15:29:33.640091Z",
     "start_time": "2025-04-28T15:29:33.632254Z"
    }
   },
   "source": [
    "# noinspection PyUnresolvedReferences\n",
    "from tensorflow.keras.datasets import mnist"
   ],
   "outputs": [],
   "execution_count": 33
  },
  {
   "metadata": {
    "ExecuteTime": {
     "end_time": "2025-04-28T15:17:59.345451Z",
     "start_time": "2025-04-28T15:17:52.771987Z"
    }
   },
   "cell_type": "code",
   "source": "(train_images, train_labels), (test_images, test_labels) = mnist.load_data()",
   "id": "b34e3984dd8f5e2d",
   "outputs": [
    {
     "name": "stdout",
     "output_type": "stream",
     "text": [
      "Downloading data from https://storage.googleapis.com/tensorflow/tf-keras-datasets/mnist.npz\n",
      "11490434/11490434 [==============================] - 6s 0us/step\n"
     ]
    }
   ],
   "execution_count": 2
  },
  {
   "metadata": {
    "ExecuteTime": {
     "end_time": "2025-04-28T15:18:13.181209Z",
     "start_time": "2025-04-28T15:18:13.147395Z"
    }
   },
   "cell_type": "code",
   "source": "train_images.shape",
   "id": "c0842cde0f4ccc74",
   "outputs": [
    {
     "data": {
      "text/plain": [
       "(60000, 28, 28)"
      ]
     },
     "execution_count": 3,
     "metadata": {},
     "output_type": "execute_result"
    }
   ],
   "execution_count": 3
  },
  {
   "metadata": {
    "ExecuteTime": {
     "end_time": "2025-04-28T15:18:19.230034Z",
     "start_time": "2025-04-28T15:18:19.207245Z"
    }
   },
   "cell_type": "code",
   "source": "test_images.shape",
   "id": "60dacc889aac4dad",
   "outputs": [
    {
     "data": {
      "text/plain": [
       "(10000, 28, 28)"
      ]
     },
     "execution_count": 4,
     "metadata": {},
     "output_type": "execute_result"
    }
   ],
   "execution_count": 4
  },
  {
   "metadata": {
    "ExecuteTime": {
     "end_time": "2025-04-28T15:18:27.014561Z",
     "start_time": "2025-04-28T15:18:27.006530Z"
    }
   },
   "cell_type": "code",
   "source": "len(train_images), len(test_images)",
   "id": "d89d5d1380d960ad",
   "outputs": [
    {
     "data": {
      "text/plain": [
       "(60000, 10000)"
      ]
     },
     "execution_count": 5,
     "metadata": {},
     "output_type": "execute_result"
    }
   ],
   "execution_count": 5
  },
  {
   "metadata": {
    "ExecuteTime": {
     "end_time": "2025-04-28T15:18:45.982126Z",
     "start_time": "2025-04-28T15:18:45.965306Z"
    }
   },
   "cell_type": "code",
   "source": "len(train_labels), len(test_labels)",
   "id": "e6483eb31ba7e720",
   "outputs": [
    {
     "data": {
      "text/plain": [
       "(60000, 10000)"
      ]
     },
     "execution_count": 6,
     "metadata": {},
     "output_type": "execute_result"
    }
   ],
   "execution_count": 6
  },
  {
   "metadata": {
    "ExecuteTime": {
     "end_time": "2025-04-28T15:18:51.095523Z",
     "start_time": "2025-04-28T15:18:51.084314Z"
    }
   },
   "cell_type": "code",
   "source": "train_labels",
   "id": "6ead3e372450890",
   "outputs": [
    {
     "data": {
      "text/plain": [
       "array([5, 0, 4, ..., 5, 6, 8], dtype=uint8)"
      ]
     },
     "execution_count": 7,
     "metadata": {},
     "output_type": "execute_result"
    }
   ],
   "execution_count": 7
  },
  {
   "metadata": {
    "ExecuteTime": {
     "end_time": "2025-04-28T15:18:57.312715Z",
     "start_time": "2025-04-28T15:18:57.296268Z"
    }
   },
   "cell_type": "code",
   "source": "test_labels",
   "id": "8bb1ae855897e3ec",
   "outputs": [
    {
     "data": {
      "text/plain": [
       "array([7, 2, 1, ..., 4, 5, 6], dtype=uint8)"
      ]
     },
     "execution_count": 8,
     "metadata": {},
     "output_type": "execute_result"
    }
   ],
   "execution_count": 8
  },
  {
   "metadata": {
    "ExecuteTime": {
     "end_time": "2025-04-28T15:20:14.777327Z",
     "start_time": "2025-04-28T15:20:14.394133Z"
    }
   },
   "cell_type": "code",
   "source": [
    "from tensorflow import keras\n",
    "# noinspection PyUnresolvedReferences\n",
    "from tensorflow.keras import layers\n",
    "model = keras.Sequential([\n",
    "    layers.Dense(512, activation='relu'),\n",
    "    layers.Dense(10, activation='softmax'),\n",
    "])"
   ],
   "id": "ec8ff117527feaad",
   "outputs": [],
   "execution_count": 9
  },
  {
   "metadata": {
    "ExecuteTime": {
     "end_time": "2025-04-28T15:22:41.990119Z",
     "start_time": "2025-04-28T15:22:41.748413Z"
    }
   },
   "cell_type": "code",
   "source": [
    "model.compile(optimizer='rmsprop',loss='sparse_categorical_crossentropy',metrics=['accuracy'])\n",
    "train_images = train_images.reshape((60000, 28 * 28))\n",
    "train_images = train_images.astype('float32')\n",
    "test_images = test_images.reshape((10000, 28 * 28))\n",
    "test_images = test_images.astype('float32')"
   ],
   "id": "352cdfa7b781c153",
   "outputs": [],
   "execution_count": 10
  },
  {
   "metadata": {
    "ExecuteTime": {
     "end_time": "2025-04-28T15:23:16.114632Z",
     "start_time": "2025-04-28T15:23:00.257383Z"
    }
   },
   "cell_type": "code",
   "source": "model.fit(train_images, train_labels, epochs=5,batch_size=128)",
   "id": "eb0e0a4eede1f71d",
   "outputs": [
    {
     "name": "stdout",
     "output_type": "stream",
     "text": [
      "Epoch 1/5\n",
      "469/469 [==============================] - 4s 7ms/step - loss: 6.1604 - accuracy: 0.8974\n",
      "Epoch 2/5\n",
      "469/469 [==============================] - 3s 6ms/step - loss: 0.6675 - accuracy: 0.9513\n",
      "Epoch 3/5\n",
      "469/469 [==============================] - 3s 6ms/step - loss: 0.4254 - accuracy: 0.9644\n",
      "Epoch 4/5\n",
      "469/469 [==============================] - 3s 5ms/step - loss: 0.3508 - accuracy: 0.9708\n",
      "Epoch 5/5\n",
      "469/469 [==============================] - 3s 6ms/step - loss: 0.3207 - accuracy: 0.9757\n"
     ]
    },
    {
     "data": {
      "text/plain": [
       "<keras.callbacks.History at 0x130111b10>"
      ]
     },
     "execution_count": 11,
     "metadata": {},
     "output_type": "execute_result"
    }
   ],
   "execution_count": 11
  },
  {
   "metadata": {
    "ExecuteTime": {
     "end_time": "2025-04-28T15:24:53.154595Z",
     "start_time": "2025-04-28T15:24:52.955140Z"
    }
   },
   "cell_type": "code",
   "source": [
    "test_digits = test_images[0:10]\n",
    "predictions = model.predict(test_digits)\n",
    "predictions[0]"
   ],
   "id": "b8d06a4cd7e4ea14",
   "outputs": [
    {
     "name": "stdout",
     "output_type": "stream",
     "text": [
      "1/1 [==============================] - 0s 97ms/step\n"
     ]
    },
    {
     "data": {
      "text/plain": [
       "array([0., 0., 0., 0., 0., 0., 0., 1., 0., 0.], dtype=float32)"
      ]
     },
     "execution_count": 12,
     "metadata": {},
     "output_type": "execute_result"
    }
   ],
   "execution_count": 12
  },
  {
   "metadata": {
    "ExecuteTime": {
     "end_time": "2025-04-28T15:25:17.114095Z",
     "start_time": "2025-04-28T15:25:17.099472Z"
    }
   },
   "cell_type": "code",
   "source": "predictions[0].argmax()",
   "id": "2a638841e3485d6f",
   "outputs": [
    {
     "data": {
      "text/plain": [
       "7"
      ]
     },
     "execution_count": 13,
     "metadata": {},
     "output_type": "execute_result"
    }
   ],
   "execution_count": 13
  },
  {
   "metadata": {
    "ExecuteTime": {
     "end_time": "2025-04-28T15:25:24.332144Z",
     "start_time": "2025-04-28T15:25:24.320542Z"
    }
   },
   "cell_type": "code",
   "source": "test_labels[0]",
   "id": "f206753881af5fca",
   "outputs": [
    {
     "data": {
      "text/plain": [
       "7"
      ]
     },
     "execution_count": 14,
     "metadata": {},
     "output_type": "execute_result"
    }
   ],
   "execution_count": 14
  },
  {
   "metadata": {
    "ExecuteTime": {
     "end_time": "2025-04-28T15:25:40.989729Z",
     "start_time": "2025-04-28T15:25:39.937270Z"
    }
   },
   "cell_type": "code",
   "source": [
    "test_loss, test_acc = model.evaluate(test_images, test_labels)\n",
    "print('Test accuracy:', test_acc)"
   ],
   "id": "5a6e2d20fa1b0867",
   "outputs": [
    {
     "name": "stdout",
     "output_type": "stream",
     "text": [
      "313/313 [==============================] - 1s 3ms/step - loss: 0.6112 - accuracy: 0.9652\n",
      "Test accuracy: 0.9652000069618225\n"
     ]
    }
   ],
   "execution_count": 15
  },
  {
   "metadata": {
    "ExecuteTime": {
     "end_time": "2025-04-28T15:25:53.280604Z",
     "start_time": "2025-04-28T15:25:53.235003Z"
    }
   },
   "cell_type": "code",
   "source": "model.summary()",
   "id": "16845c8683c9898c",
   "outputs": [
    {
     "name": "stdout",
     "output_type": "stream",
     "text": [
      "Model: \"sequential\"\n",
      "_________________________________________________________________\n",
      " Layer (type)                Output Shape              Param #   \n",
      "=================================================================\n",
      " dense (Dense)               (None, 512)               401920    \n",
      "                                                                 \n",
      " dense_1 (Dense)             (None, 10)                5130      \n",
      "                                                                 \n",
      "=================================================================\n",
      "Total params: 407,050\n",
      "Trainable params: 407,050\n",
      "Non-trainable params: 0\n",
      "_________________________________________________________________\n"
     ]
    }
   ],
   "execution_count": 16
  },
  {
   "metadata": {
    "ExecuteTime": {
     "end_time": "2025-04-28T15:26:58.543417Z",
     "start_time": "2025-04-28T15:26:58.537104Z"
    }
   },
   "cell_type": "code",
   "source": [
    "#Représentation des données pour le réseau de neurones\n",
    "import numpy as np\n",
    "x = np.array(12)\n",
    "x.ndim"
   ],
   "id": "edbce7d234cf5f36",
   "outputs": [
    {
     "data": {
      "text/plain": [
       "0"
      ]
     },
     "execution_count": 17,
     "metadata": {},
     "output_type": "execute_result"
    }
   ],
   "execution_count": 17
  },
  {
   "metadata": {
    "ExecuteTime": {
     "end_time": "2025-04-28T15:27:03.855011Z",
     "start_time": "2025-04-28T15:27:03.845717Z"
    }
   },
   "cell_type": "code",
   "source": "x",
   "id": "1325c8ba75294c57",
   "outputs": [
    {
     "data": {
      "text/plain": [
       "array(12)"
      ]
     },
     "execution_count": 18,
     "metadata": {},
     "output_type": "execute_result"
    }
   ],
   "execution_count": 18
  },
  {
   "metadata": {
    "ExecuteTime": {
     "end_time": "2025-04-28T15:27:16.346144Z",
     "start_time": "2025-04-28T15:27:16.328636Z"
    }
   },
   "cell_type": "code",
   "source": [
    "x = np.array([12,3,6,14,7])\n",
    "x"
   ],
   "id": "c1d41410a078f417",
   "outputs": [
    {
     "data": {
      "text/plain": [
       "array([12,  3,  6, 14,  7])"
      ]
     },
     "execution_count": 19,
     "metadata": {},
     "output_type": "execute_result"
    }
   ],
   "execution_count": 19
  },
  {
   "metadata": {
    "ExecuteTime": {
     "end_time": "2025-04-28T15:27:20.301261Z",
     "start_time": "2025-04-28T15:27:20.291832Z"
    }
   },
   "cell_type": "code",
   "source": "x.ndim",
   "id": "5fe515575d32bdd3",
   "outputs": [
    {
     "data": {
      "text/plain": [
       "1"
      ]
     },
     "execution_count": 20,
     "metadata": {},
     "output_type": "execute_result"
    }
   ],
   "execution_count": 20
  },
  {
   "metadata": {
    "ExecuteTime": {
     "end_time": "2025-04-28T15:27:30.967700Z",
     "start_time": "2025-04-28T15:27:30.952833Z"
    }
   },
   "cell_type": "code",
   "source": [
    "x = np.array([[12,3,6,14,7],\n",
    "               [12,8,9,10,9],\n",
    "              [3,4,9,0,89]\n",
    "              ])\n",
    "x"
   ],
   "id": "33825990f3f31a65",
   "outputs": [
    {
     "data": {
      "text/plain": [
       "array([[12,  3,  6, 14,  7],\n",
       "       [12,  8,  9, 10,  9],\n",
       "       [ 3,  4,  9,  0, 89]])"
      ]
     },
     "execution_count": 21,
     "metadata": {},
     "output_type": "execute_result"
    }
   ],
   "execution_count": 21
  },
  {
   "metadata": {
    "ExecuteTime": {
     "end_time": "2025-04-28T15:28:03.534971Z",
     "start_time": "2025-04-28T15:28:03.526401Z"
    }
   },
   "cell_type": "code",
   "source": "x.ndim",
   "id": "ed46859342f2ae53",
   "outputs": [
    {
     "data": {
      "text/plain": [
       "2"
      ]
     },
     "execution_count": 22,
     "metadata": {},
     "output_type": "execute_result"
    }
   ],
   "execution_count": 22
  },
  {
   "metadata": {
    "ExecuteTime": {
     "end_time": "2025-04-28T15:28:10.509860Z",
     "start_time": "2025-04-28T15:28:10.495467Z"
    }
   },
   "cell_type": "code",
   "source": [
    "x = np.array([[[5, 78, 2, 34, 0],\n",
    " [6, 79, 3, 35, 1],\n",
    " [7, 80, 4, 36, 2]],\n",
    " [[5, 78, 2, 34, 0],\n",
    " [6, 79, 3, 35, 1],\n",
    " [7, 80, 4, 36, 2]],\n",
    " [[5, 78, 2, 34, 0],\n",
    " [6, 79, 3, 35, 1],\n",
    " [7, 80, 4, 36, 2]]])\n",
    "x"
   ],
   "id": "b16616d1b1e57c62",
   "outputs": [
    {
     "data": {
      "text/plain": [
       "array([[[ 5, 78,  2, 34,  0],\n",
       "        [ 6, 79,  3, 35,  1],\n",
       "        [ 7, 80,  4, 36,  2]],\n",
       "\n",
       "       [[ 5, 78,  2, 34,  0],\n",
       "        [ 6, 79,  3, 35,  1],\n",
       "        [ 7, 80,  4, 36,  2]],\n",
       "\n",
       "       [[ 5, 78,  2, 34,  0],\n",
       "        [ 6, 79,  3, 35,  1],\n",
       "        [ 7, 80,  4, 36,  2]]])"
      ]
     },
     "execution_count": 23,
     "metadata": {},
     "output_type": "execute_result"
    }
   ],
   "execution_count": 23
  },
  {
   "metadata": {
    "ExecuteTime": {
     "end_time": "2025-04-28T15:28:18.635527Z",
     "start_time": "2025-04-28T15:28:18.627831Z"
    }
   },
   "cell_type": "code",
   "source": "x.ndim",
   "id": "1b862603c8af1411",
   "outputs": [
    {
     "data": {
      "text/plain": [
       "3"
      ]
     },
     "execution_count": 24,
     "metadata": {},
     "output_type": "execute_result"
    }
   ],
   "execution_count": 24
  },
  {
   "metadata": {
    "ExecuteTime": {
     "end_time": "2025-04-28T15:28:21.628124Z",
     "start_time": "2025-04-28T15:28:21.620874Z"
    }
   },
   "cell_type": "code",
   "source": "x.shape",
   "id": "9aa7e70390b681af",
   "outputs": [
    {
     "data": {
      "text/plain": [
       "(3, 3, 5)"
      ]
     },
     "execution_count": 25,
     "metadata": {},
     "output_type": "execute_result"
    }
   ],
   "execution_count": 25
  },
  {
   "metadata": {
    "ExecuteTime": {
     "end_time": "2025-04-28T15:28:47.817084Z",
     "start_time": "2025-04-28T15:28:47.810139Z"
    }
   },
   "cell_type": "code",
   "source": "x.dtype",
   "id": "f4c33d1260e41db",
   "outputs": [
    {
     "data": {
      "text/plain": [
       "dtype('int64')"
      ]
     },
     "execution_count": 26,
     "metadata": {},
     "output_type": "execute_result"
    }
   ],
   "execution_count": 26
  },
  {
   "metadata": {
    "ExecuteTime": {
     "end_time": "2025-04-28T15:28:53.894Z",
     "start_time": "2025-04-28T15:28:53.886174Z"
    }
   },
   "cell_type": "code",
   "source": "train_images.dtype",
   "id": "59caac12e3ffe11c",
   "outputs": [
    {
     "data": {
      "text/plain": [
       "dtype('float32')"
      ]
     },
     "execution_count": 27,
     "metadata": {},
     "output_type": "execute_result"
    }
   ],
   "execution_count": 27
  },
  {
   "metadata": {
    "ExecuteTime": {
     "end_time": "2025-04-28T15:28:57.683441Z",
     "start_time": "2025-04-28T15:28:57.674756Z"
    }
   },
   "cell_type": "code",
   "source": "train_images.ndim",
   "id": "3bd5b5a1f9bf43df",
   "outputs": [
    {
     "data": {
      "text/plain": [
       "2"
      ]
     },
     "execution_count": 28,
     "metadata": {},
     "output_type": "execute_result"
    }
   ],
   "execution_count": 28
  },
  {
   "metadata": {
    "ExecuteTime": {
     "end_time": "2025-04-28T15:29:14.767308Z",
     "start_time": "2025-04-28T15:29:14.459212Z"
    }
   },
   "cell_type": "code",
   "source": [
    "# noinspection PyUnresolvedReferences\n",
    "from tensorflow.keras.datasets import mnist\n",
    "(train_images, train_labels), (test_images, test_labels) = mnist.load_data()"
   ],
   "id": "90b85c2039872cb7",
   "outputs": [],
   "execution_count": 29
  },
  {
   "metadata": {
    "ExecuteTime": {
     "end_time": "2025-04-28T15:29:19.526130Z",
     "start_time": "2025-04-28T15:29:19.520042Z"
    }
   },
   "cell_type": "code",
   "source": "train_images.shape",
   "id": "9a3a5215da47636d",
   "outputs": [
    {
     "data": {
      "text/plain": [
       "(60000, 28, 28)"
      ]
     },
     "execution_count": 30,
     "metadata": {},
     "output_type": "execute_result"
    }
   ],
   "execution_count": 30
  },
  {
   "metadata": {
    "ExecuteTime": {
     "end_time": "2025-04-28T15:29:23.748641Z",
     "start_time": "2025-04-28T15:29:23.742443Z"
    }
   },
   "cell_type": "code",
   "source": "train_images.ndim",
   "id": "2ea1ec7d563b562",
   "outputs": [
    {
     "data": {
      "text/plain": [
       "3"
      ]
     },
     "execution_count": 31,
     "metadata": {},
     "output_type": "execute_result"
    }
   ],
   "execution_count": 31
  },
  {
   "metadata": {
    "ExecuteTime": {
     "end_time": "2025-04-28T15:29:26.204508Z",
     "start_time": "2025-04-28T15:29:26.197798Z"
    }
   },
   "cell_type": "code",
   "source": "train_images.dtype",
   "id": "70f1936bd1c992dc",
   "outputs": [
    {
     "data": {
      "text/plain": [
       "dtype('uint8')"
      ]
     },
     "execution_count": 32,
     "metadata": {},
     "output_type": "execute_result"
    }
   ],
   "execution_count": 32
  },
  {
   "metadata": {},
   "cell_type": "code",
   "outputs": [],
   "execution_count": null,
   "source": "",
   "id": "117c0377c65c5d71"
  }
 ],
 "metadata": {
  "kernelspec": {
   "display_name": "Python 3",
   "language": "python",
   "name": "python3"
  },
  "language_info": {
   "codemirror_mode": {
    "name": "ipython",
    "version": 2
   },
   "file_extension": ".py",
   "mimetype": "text/x-python",
   "name": "python",
   "nbconvert_exporter": "python",
   "pygments_lexer": "ipython2",
   "version": "2.7.6"
  }
 },
 "nbformat": 4,
 "nbformat_minor": 5
}
